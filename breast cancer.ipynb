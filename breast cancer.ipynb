{
  "cells": [
    {
      "cell_type": "markdown",
      "metadata": {
        "id": "view-in-github",
        "colab_type": "text"
      },
      "source": [
        "<a href=\"https://colab.research.google.com/github/Junaid-EEE11/coursework/blob/main/breast%20cancer.ipynb\" target=\"_parent\"><img src=\"https://colab.research.google.com/assets/colab-badge.svg\" alt=\"Open In Colab\"/></a>"
      ]
    },
    {
      "cell_type": "markdown",
      "id": "fe156fec",
      "metadata": {
        "id": "fe156fec"
      },
      "source": [
        "### Import libraries"
      ]
    },
    {
      "cell_type": "code",
      "execution_count": null,
      "id": "fa162ac9",
      "metadata": {
        "id": "fa162ac9"
      },
      "outputs": [],
      "source": [
        "# Load libraries\n",
        "import pandas as pd\n",
        "import matplotlib.pyplot as plt\n",
        "from sklearn.model_selection import train_test_split, cross_val_score, StratifiedKFold\n",
        "from sklearn.metrics import classification_report, confusion_matrix, accuracy_score\n",
        "\n",
        "from sklearn.linear_model import LogisticRegression\n",
        "from sklearn.tree import DecisionTreeClassifier\n",
        "from sklearn.neighbors import KNeighborsClassifier\n"
      ]
    },
    {
      "cell_type": "code",
      "execution_count": null,
      "id": "aa042b00",
      "metadata": {
        "id": "aa042b00"
      },
      "outputs": [],
      "source": []
    },
    {
      "cell_type": "markdown",
      "id": "b28060d8",
      "metadata": {
        "id": "b28060d8"
      },
      "source": [
        "### Load Dataset"
      ]
    },
    {
      "cell_type": "code",
      "execution_count": null,
      "id": "94657a47",
      "metadata": {
        "id": "94657a47"
      },
      "outputs": [],
      "source": [
        "from sklearn import datasets\n",
        "\n",
        "iris = datasets.load_iris()\n",
        "\n",
        "print(type(iris))\n",
        "print(iris.keys())\n",
        "print(iris.DESCR)"
      ]
    },
    {
      "cell_type": "code",
      "execution_count": null,
      "id": "302295ec",
      "metadata": {
        "id": "302295ec"
      },
      "outputs": [],
      "source": [
        "df_iris = pd.DataFrame(iris.data, columns = iris.feature_names)\n",
        "df_iris['class'] = iris.target\n",
        "df_iris.head()"
      ]
    },
    {
      "cell_type": "code",
      "execution_count": null,
      "id": "4be73f20",
      "metadata": {
        "id": "4be73f20"
      },
      "outputs": [],
      "source": [
        "iris.target_names"
      ]
    },
    {
      "cell_type": "code",
      "execution_count": null,
      "id": "27260563",
      "metadata": {
        "id": "27260563"
      },
      "outputs": [],
      "source": [
        "# Write to a csv file\n",
        "df_iris.to_csv('iris.csv')"
      ]
    },
    {
      "cell_type": "code",
      "execution_count": null,
      "id": "eff7f41b",
      "metadata": {
        "id": "eff7f41b"
      },
      "outputs": [],
      "source": []
    },
    {
      "cell_type": "code",
      "execution_count": null,
      "id": "1866aa87",
      "metadata": {
        "id": "1866aa87"
      },
      "outputs": [],
      "source": []
    },
    {
      "cell_type": "markdown",
      "id": "c73864ba",
      "metadata": {
        "id": "c73864ba"
      },
      "source": [
        "### Summarize the data"
      ]
    },
    {
      "cell_type": "code",
      "execution_count": null,
      "id": "ba9dff56",
      "metadata": {
        "id": "ba9dff56"
      },
      "outputs": [],
      "source": [
        "# summarize the data\n",
        "\n",
        "# shape\n",
        "print(df_iris.shape)\n",
        "# head\n",
        "display(df_iris.head(5))\n",
        "# descriptions\n",
        "display(df_iris.describe())\n",
        "# class distribution\n",
        "display(df_iris.groupby('class').size())"
      ]
    },
    {
      "cell_type": "code",
      "execution_count": null,
      "id": "150be7d2",
      "metadata": {
        "id": "150be7d2"
      },
      "outputs": [],
      "source": []
    },
    {
      "cell_type": "markdown",
      "id": "3b3eb36a",
      "metadata": {
        "id": "3b3eb36a"
      },
      "source": [
        "### Data Visualization"
      ]
    },
    {
      "cell_type": "code",
      "execution_count": null,
      "id": "43451fd6",
      "metadata": {
        "id": "43451fd6"
      },
      "outputs": [],
      "source": [
        "# box and whisker plots\n",
        "df_iris.plot(kind='box')\n",
        "plt.show()"
      ]
    },
    {
      "cell_type": "code",
      "execution_count": null,
      "id": "569bcd61",
      "metadata": {
        "id": "569bcd61"
      },
      "outputs": [],
      "source": [
        "# # box and whisker plots\n",
        "# dataset.plot(kind='box', subplots=True, layout=(2,2), sharex=False, sharey=False)\n",
        "# plt.show()"
      ]
    },
    {
      "cell_type": "code",
      "execution_count": null,
      "id": "51a3bc3f",
      "metadata": {
        "id": "51a3bc3f"
      },
      "outputs": [],
      "source": [
        "# histograms\n",
        "df_iris.hist()\n",
        "plt.show()\n",
        "# scatter plot matrix\n",
        "pd.plotting.scatter_matrix(df_iris)\n",
        "plt.show()"
      ]
    },
    {
      "cell_type": "code",
      "execution_count": null,
      "id": "7118eba8",
      "metadata": {
        "id": "7118eba8"
      },
      "outputs": [],
      "source": []
    },
    {
      "cell_type": "markdown",
      "id": "87b71e3a",
      "metadata": {
        "id": "87b71e3a"
      },
      "source": [
        "### Model Building and Prediction"
      ]
    },
    {
      "cell_type": "code",
      "execution_count": null,
      "id": "446c666e",
      "metadata": {
        "id": "446c666e"
      },
      "outputs": [],
      "source": [
        "# Split-out validation dataset\n",
        "X = df_iris.drop('class',axis = 1)\n",
        "y = df_iris['class']\n",
        "X_train, X_validation, Y_train, Y_validation = train_test_split(X, y, test_size=0.20, random_state=1, shuffle=True)"
      ]
    },
    {
      "cell_type": "code",
      "execution_count": null,
      "id": "5b59d39d",
      "metadata": {
        "id": "5b59d39d"
      },
      "outputs": [],
      "source": [
        "model = LogisticRegression()\n",
        "model.fit(X_train, Y_train)\n",
        "predictions = model.predict(X_validation)\n",
        "# Evaluate predictions\n",
        "print(accuracy_score(Y_validation, predictions))\n",
        "print(confusion_matrix(Y_validation, predictions))\n",
        "print(classification_report(Y_validation, predictions))"
      ]
    },
    {
      "cell_type": "code",
      "execution_count": null,
      "id": "4720b81a",
      "metadata": {
        "id": "4720b81a"
      },
      "outputs": [],
      "source": [
        "# from sklearn.tree import DecisionTreeClassifier\n",
        "# from sklearn.neighbors import KNeighborsClassifier\n",
        "model = DecisionTreeClassifier()\n",
        "model.fit(X_train, Y_train)\n",
        "predictions = model.predict(X_validation)\n",
        "# Evaluate predictions\n",
        "print(accuracy_score(Y_validation, predictions))\n",
        "print(confusion_matrix(Y_validation, predictions))\n",
        "print(classification_report(Y_validation, predictions))"
      ]
    },
    {
      "cell_type": "code",
      "execution_count": null,
      "id": "adacb90f",
      "metadata": {
        "id": "adacb90f"
      },
      "outputs": [],
      "source": [
        "model = KNeighborsClassifier()\n",
        "model.fit(X_train, Y_train)\n",
        "predictions = model.predict(X_validation)\n",
        "# Evaluate predictions\n",
        "print(accuracy_score(Y_validation, predictions))\n",
        "print(confusion_matrix(Y_validation, predictions))\n",
        "print(classification_report(Y_validation, predictions))"
      ]
    },
    {
      "cell_type": "code",
      "execution_count": null,
      "id": "fcd075c9",
      "metadata": {
        "id": "fcd075c9"
      },
      "outputs": [],
      "source": []
    },
    {
      "cell_type": "markdown",
      "id": "cc0b064b",
      "metadata": {
        "id": "cc0b064b"
      },
      "source": [
        "### Compare Algorithms"
      ]
    },
    {
      "cell_type": "code",
      "execution_count": null,
      "id": "8c55fb54",
      "metadata": {
        "id": "8c55fb54"
      },
      "outputs": [],
      "source": [
        "# compare algorithms\n",
        "from pandas import read_csv\n",
        "from matplotlib import pyplot as plt\n",
        "from sklearn.model_selection import train_test_split\n",
        "from sklearn.model_selection import cross_val_score\n",
        "from sklearn.model_selection import StratifiedKFold\n",
        "from sklearn.linear_model import LogisticRegression\n",
        "from sklearn.tree import DecisionTreeClassifier\n",
        "from sklearn.neighbors import KNeighborsClassifier\n",
        "\n",
        "\n",
        "# Spot Check Algorithms\n",
        "models = []\n",
        "models.append(('LR', LogisticRegression(solver='liblinear', multi_class='ovr')))\n",
        "models.append(('KNN', KNeighborsClassifier()))\n",
        "models.append(('CART', DecisionTreeClassifier()))\n",
        "\n",
        "# evaluate each model in turn\n",
        "results = []\n",
        "names = []\n",
        "for name, model in models:\n",
        "    kfold = StratifiedKFold(n_splits=10, random_state=1, shuffle=True)\n",
        "    cv_results = cross_val_score(model, X_train, Y_train, cv=kfold, scoring='accuracy')\n",
        "    results.append(cv_results)\n",
        "    names.append(name)\n",
        "    print('%s: %f (%f)' % (name, cv_results.mean(), cv_results.std()))\n",
        "# Compare Algorithms\n",
        "plt.boxplot(results, labels=names)\n",
        "plt.title('Algorithm Comparison')\n",
        "plt.show()"
      ]
    }
  ],
  "metadata": {
    "kernelspec": {
      "display_name": "Python 3 (ipykernel)",
      "language": "python",
      "name": "python3"
    },
    "language_info": {
      "codemirror_mode": {
        "name": "ipython",
        "version": 3
      },
      "file_extension": ".py",
      "mimetype": "text/x-python",
      "name": "python",
      "nbconvert_exporter": "python",
      "pygments_lexer": "ipython3",
      "version": "3.9.7"
    },
    "colab": {
      "provenance": [],
      "include_colab_link": true
    }
  },
  "nbformat": 4,
  "nbformat_minor": 5
}